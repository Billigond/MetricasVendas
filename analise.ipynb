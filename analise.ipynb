{
 "cells": [
  {
   "cell_type": "markdown",
   "metadata": {},
   "source": [
    "CARREGAR BIBLIOTECAS"
   ]
  },
  {
   "cell_type": "code",
   "execution_count": 69,
   "metadata": {},
   "outputs": [],
   "source": [
    "import pandas as pd\n",
    "import plotly.express as px"
   ]
  },
  {
   "cell_type": "markdown",
   "metadata": {},
   "source": [
    "CARREGAR DATASET"
   ]
  },
  {
   "cell_type": "code",
   "execution_count": 70,
   "metadata": {},
   "outputs": [
    {
     "data": {
      "text/html": [
       "<div>\n",
       "<style scoped>\n",
       "    .dataframe tbody tr th:only-of-type {\n",
       "        vertical-align: middle;\n",
       "    }\n",
       "\n",
       "    .dataframe tbody tr th {\n",
       "        vertical-align: top;\n",
       "    }\n",
       "\n",
       "    .dataframe thead th {\n",
       "        text-align: right;\n",
       "    }\n",
       "</style>\n",
       "<table border=\"1\" class=\"dataframe\">\n",
       "  <thead>\n",
       "    <tr style=\"text-align: right;\">\n",
       "      <th></th>\n",
       "      <th>data</th>\n",
       "      <th>faturamento</th>\n",
       "      <th>custo</th>\n",
       "    </tr>\n",
       "  </thead>\n",
       "  <tbody>\n",
       "    <tr>\n",
       "      <th>0</th>\n",
       "      <td>01/01/2023</td>\n",
       "      <td>5000</td>\n",
       "      <td>3000</td>\n",
       "    </tr>\n",
       "    <tr>\n",
       "      <th>1</th>\n",
       "      <td>02/01/2023</td>\n",
       "      <td>5500</td>\n",
       "      <td>3200</td>\n",
       "    </tr>\n",
       "    <tr>\n",
       "      <th>2</th>\n",
       "      <td>03/01/2023</td>\n",
       "      <td>4800</td>\n",
       "      <td>2800</td>\n",
       "    </tr>\n",
       "    <tr>\n",
       "      <th>3</th>\n",
       "      <td>04/01/2023</td>\n",
       "      <td>6000</td>\n",
       "      <td>3500</td>\n",
       "    </tr>\n",
       "    <tr>\n",
       "      <th>4</th>\n",
       "      <td>05/01/2023</td>\n",
       "      <td>5200</td>\n",
       "      <td>3100</td>\n",
       "    </tr>\n",
       "  </tbody>\n",
       "</table>\n",
       "</div>"
      ],
      "text/plain": [
       "         data  faturamento  custo\n",
       "0  01/01/2023         5000   3000\n",
       "1  02/01/2023         5500   3200\n",
       "2  03/01/2023         4800   2800\n",
       "3  04/01/2023         6000   3500\n",
       "4  05/01/2023         5200   3100"
      ]
     },
     "execution_count": 70,
     "metadata": {},
     "output_type": "execute_result"
    }
   ],
   "source": [
    "dados=pd.read_csv(\"/workspaces/MetricasVendas/dataset.csv\",sep=\";\")\n",
    "\n",
    "dados.head()"
   ]
  },
  {
   "cell_type": "markdown",
   "metadata": {},
   "source": [
    "CAUCULAR MÉTRICAS"
   ]
  },
  {
   "cell_type": "code",
   "execution_count": 71,
   "metadata": {},
   "outputs": [
    {
     "data": {
      "text/html": [
       "<div>\n",
       "<style scoped>\n",
       "    .dataframe tbody tr th:only-of-type {\n",
       "        vertical-align: middle;\n",
       "    }\n",
       "\n",
       "    .dataframe tbody tr th {\n",
       "        vertical-align: top;\n",
       "    }\n",
       "\n",
       "    .dataframe thead th {\n",
       "        text-align: right;\n",
       "    }\n",
       "</style>\n",
       "<table border=\"1\" class=\"dataframe\">\n",
       "  <thead>\n",
       "    <tr style=\"text-align: right;\">\n",
       "      <th></th>\n",
       "      <th>data</th>\n",
       "      <th>faturamento</th>\n",
       "      <th>custo</th>\n",
       "      <th>lucro</th>\n",
       "      <th>margem lucro (%)</th>\n",
       "      <th>crescimento (%)</th>\n",
       "    </tr>\n",
       "  </thead>\n",
       "  <tbody>\n",
       "    <tr>\n",
       "      <th>0</th>\n",
       "      <td>01/01/2023</td>\n",
       "      <td>5000</td>\n",
       "      <td>3000</td>\n",
       "      <td>2000</td>\n",
       "      <td>40,00%</td>\n",
       "      <td>0%</td>\n",
       "    </tr>\n",
       "    <tr>\n",
       "      <th>1</th>\n",
       "      <td>02/01/2023</td>\n",
       "      <td>5500</td>\n",
       "      <td>3200</td>\n",
       "      <td>2300</td>\n",
       "      <td>41,82%</td>\n",
       "      <td>15,00%</td>\n",
       "    </tr>\n",
       "    <tr>\n",
       "      <th>2</th>\n",
       "      <td>03/01/2023</td>\n",
       "      <td>4800</td>\n",
       "      <td>2800</td>\n",
       "      <td>2000</td>\n",
       "      <td>41,67%</td>\n",
       "      <td>-13,04%</td>\n",
       "    </tr>\n",
       "    <tr>\n",
       "      <th>3</th>\n",
       "      <td>04/01/2023</td>\n",
       "      <td>6000</td>\n",
       "      <td>3500</td>\n",
       "      <td>2500</td>\n",
       "      <td>41,67%</td>\n",
       "      <td>25,00%</td>\n",
       "    </tr>\n",
       "    <tr>\n",
       "      <th>4</th>\n",
       "      <td>05/01/2023</td>\n",
       "      <td>5200</td>\n",
       "      <td>3100</td>\n",
       "      <td>2100</td>\n",
       "      <td>40,38%</td>\n",
       "      <td>-16,00%</td>\n",
       "    </tr>\n",
       "  </tbody>\n",
       "</table>\n",
       "</div>"
      ],
      "text/plain": [
       "         data  faturamento  custo  lucro margem lucro (%) crescimento (%)\n",
       "0  01/01/2023         5000   3000   2000           40,00%              0%\n",
       "1  02/01/2023         5500   3200   2300           41,82%          15,00%\n",
       "2  03/01/2023         4800   2800   2000           41,67%         -13,04%\n",
       "3  04/01/2023         6000   3500   2500           41,67%          25,00%\n",
       "4  05/01/2023         5200   3100   2100           40,38%         -16,00%"
      ]
     },
     "execution_count": 71,
     "metadata": {},
     "output_type": "execute_result"
    }
   ],
   "source": [
    "# Caucular Lucro\n",
    "dados[\"lucro\"]=dados[\"faturamento\"]-dados[\"custo\"]\n",
    "\n",
    "#Caucular o % de Lucro.\n",
    "valor_percentual_lucro=dados[\"lucro\"]/dados[\"faturamento\"]*1\n",
    "dados[\"margem lucro (%)\"]=valor_percentual_lucro.map(lambda x : '{:.2%}'.format(x).replace(\".\",\",\"))\n",
    "\n",
    "#Caucular Crescimento.\n",
    "dados[\"crescimento (%)\"]=dados[\"lucro\"].pct_change().map(lambda y : '{:.2%}'.format(y).replace(\".\",\",\").replace(\"nan\",\"0\"))\n",
    "\n",
    "dados.head()"
   ]
  },
  {
   "cell_type": "markdown",
   "metadata": {},
   "source": [
    "CONFIGURAÇÃO DO FAROL DE DESEMPENHO."
   ]
  },
  {
   "cell_type": "code",
   "execution_count": null,
   "metadata": {},
   "outputs": [],
   "source": [
    "\n",
    "    "
   ]
  },
  {
   "cell_type": "markdown",
   "metadata": {},
   "source": [
    "FAZER A TRANSPOSIÇÃO PARA ESTRUTURAR OS INDICADORES."
   ]
  },
  {
   "cell_type": "code",
   "execution_count": 72,
   "metadata": {},
   "outputs": [
    {
     "data": {
      "text/html": [
       "<div>\n",
       "<style scoped>\n",
       "    .dataframe tbody tr th:only-of-type {\n",
       "        vertical-align: middle;\n",
       "    }\n",
       "\n",
       "    .dataframe tbody tr th {\n",
       "        vertical-align: top;\n",
       "    }\n",
       "\n",
       "    .dataframe thead th {\n",
       "        text-align: right;\n",
       "    }\n",
       "</style>\n",
       "<table border=\"1\" class=\"dataframe\">\n",
       "  <thead>\n",
       "    <tr style=\"text-align: right;\">\n",
       "      <th></th>\n",
       "      <th>data</th>\n",
       "      <th>Indicador</th>\n",
       "      <th>Valor</th>\n",
       "    </tr>\n",
       "  </thead>\n",
       "  <tbody>\n",
       "    <tr>\n",
       "      <th>0</th>\n",
       "      <td>01/01/2023</td>\n",
       "      <td>faturamento</td>\n",
       "      <td>5000</td>\n",
       "    </tr>\n",
       "    <tr>\n",
       "      <th>1</th>\n",
       "      <td>02/01/2023</td>\n",
       "      <td>faturamento</td>\n",
       "      <td>5500</td>\n",
       "    </tr>\n",
       "    <tr>\n",
       "      <th>2</th>\n",
       "      <td>03/01/2023</td>\n",
       "      <td>faturamento</td>\n",
       "      <td>4800</td>\n",
       "    </tr>\n",
       "    <tr>\n",
       "      <th>3</th>\n",
       "      <td>04/01/2023</td>\n",
       "      <td>faturamento</td>\n",
       "      <td>6000</td>\n",
       "    </tr>\n",
       "    <tr>\n",
       "      <th>4</th>\n",
       "      <td>05/01/2023</td>\n",
       "      <td>faturamento</td>\n",
       "      <td>5200</td>\n",
       "    </tr>\n",
       "  </tbody>\n",
       "</table>\n",
       "</div>"
      ],
      "text/plain": [
       "         data    Indicador Valor\n",
       "0  01/01/2023  faturamento  5000\n",
       "1  02/01/2023  faturamento  5500\n",
       "2  03/01/2023  faturamento  4800\n",
       "3  04/01/2023  faturamento  6000\n",
       "4  05/01/2023  faturamento  5200"
      ]
     },
     "execution_count": 72,
     "metadata": {},
     "output_type": "execute_result"
    }
   ],
   "source": [
    "colunas=[\"faturamento\",\"custo\",\"lucro\",\"margem lucro (%)\",\"crescimento (%)\"]\n",
    "df_transformado=pd.melt(dados,id_vars=\"data\",value_vars=colunas,var_name=\"Indicador\",value_name=\"Valor\")\n",
    "\n",
    "df_transformado.head()"
   ]
  },
  {
   "cell_type": "code",
   "execution_count": 73,
   "metadata": {},
   "outputs": [
    {
     "data": {
      "application/vnd.plotly.v1+json": {
       "config": {
        "plotlyServerURL": "https://plot.ly"
       },
       "data": [
        {
         "hovertemplate": "Indicador=faturamento<br>data=%{x}<br>Valor=%{text}<extra></extra>",
         "legendgroup": "faturamento",
         "line": {
          "color": "#636efa",
          "dash": "solid"
         },
         "marker": {
          "symbol": "circle"
         },
         "mode": "lines+text+markers",
         "name": "faturamento",
         "orientation": "v",
         "showlegend": true,
         "text": [
          5000,
          5500,
          4800,
          6000,
          5200,
          5300,
          5100,
          5900,
          4800,
          5500,
          5200,
          6000,
          5400,
          5600,
          5800,
          5300,
          4800,
          5900,
          5500,
          6000,
          5200,
          5400,
          5600,
          5700,
          4900,
          5200,
          6000,
          5500,
          5300,
          4800
         ],
         "type": "scatter",
         "x": [
          "01/01/2023",
          "02/01/2023",
          "03/01/2023",
          "04/01/2023",
          "05/01/2023",
          "06/01/2023",
          "07/01/2023",
          "08/01/2023",
          "09/01/2023",
          "10/01/2023",
          "11/01/2023",
          "12/01/2023",
          "13/01/2023",
          "14/01/2023",
          "15/01/2023",
          "16/01/2023",
          "17/01/2023",
          "18/01/2023",
          "19/01/2023",
          "20/01/2023",
          "21/01/2023",
          "22/01/2023",
          "23/01/2023",
          "24/01/2023",
          "25/01/2023",
          "26/01/2023",
          "27/01/2023",
          "28/01/2023",
          "29/01/2023",
          "30/01/2023"
         ],
         "xaxis": "x",
         "y": [
          5000,
          5500,
          4800,
          6000,
          5200,
          5300,
          5100,
          5900,
          4800,
          5500,
          5200,
          6000,
          5400,
          5600,
          5800,
          5300,
          4800,
          5900,
          5500,
          6000,
          5200,
          5400,
          5600,
          5700,
          4900,
          5200,
          6000,
          5500,
          5300,
          4800
         ],
         "yaxis": "y"
        },
        {
         "hovertemplate": "Indicador=custo<br>data=%{x}<br>Valor=%{text}<extra></extra>",
         "legendgroup": "custo",
         "line": {
          "color": "#EF553B",
          "dash": "solid"
         },
         "marker": {
          "symbol": "circle"
         },
         "mode": "lines+text+markers",
         "name": "custo",
         "orientation": "v",
         "showlegend": true,
         "text": [
          3000,
          3200,
          2800,
          3500,
          3100,
          3200,
          3000,
          3300,
          2700,
          3200,
          3100,
          3400,
          3100,
          3300,
          3200,
          3100,
          2800,
          3300,
          3100,
          3500,
          3000,
          3100,
          3200,
          3300,
          2800,
          3100,
          3400,
          3200,
          3100,
          2800
         ],
         "type": "scatter",
         "x": [
          "01/01/2023",
          "02/01/2023",
          "03/01/2023",
          "04/01/2023",
          "05/01/2023",
          "06/01/2023",
          "07/01/2023",
          "08/01/2023",
          "09/01/2023",
          "10/01/2023",
          "11/01/2023",
          "12/01/2023",
          "13/01/2023",
          "14/01/2023",
          "15/01/2023",
          "16/01/2023",
          "17/01/2023",
          "18/01/2023",
          "19/01/2023",
          "20/01/2023",
          "21/01/2023",
          "22/01/2023",
          "23/01/2023",
          "24/01/2023",
          "25/01/2023",
          "26/01/2023",
          "27/01/2023",
          "28/01/2023",
          "29/01/2023",
          "30/01/2023"
         ],
         "xaxis": "x",
         "y": [
          3000,
          3200,
          2800,
          3500,
          3100,
          3200,
          3000,
          3300,
          2700,
          3200,
          3100,
          3400,
          3100,
          3300,
          3200,
          3100,
          2800,
          3300,
          3100,
          3500,
          3000,
          3100,
          3200,
          3300,
          2800,
          3100,
          3400,
          3200,
          3100,
          2800
         ],
         "yaxis": "y"
        },
        {
         "hovertemplate": "Indicador=lucro<br>data=%{x}<br>Valor=%{text}<extra></extra>",
         "legendgroup": "lucro",
         "line": {
          "color": "#00cc96",
          "dash": "solid"
         },
         "marker": {
          "symbol": "circle"
         },
         "mode": "lines+text+markers",
         "name": "lucro",
         "orientation": "v",
         "showlegend": true,
         "text": [
          2000,
          2300,
          2000,
          2500,
          2100,
          2100,
          2100,
          2600,
          2100,
          2300,
          2100,
          2600,
          2300,
          2300,
          2600,
          2200,
          2000,
          2600,
          2400,
          2500,
          2200,
          2300,
          2400,
          2400,
          2100,
          2100,
          2600,
          2300,
          2200,
          2000
         ],
         "type": "scatter",
         "x": [
          "01/01/2023",
          "02/01/2023",
          "03/01/2023",
          "04/01/2023",
          "05/01/2023",
          "06/01/2023",
          "07/01/2023",
          "08/01/2023",
          "09/01/2023",
          "10/01/2023",
          "11/01/2023",
          "12/01/2023",
          "13/01/2023",
          "14/01/2023",
          "15/01/2023",
          "16/01/2023",
          "17/01/2023",
          "18/01/2023",
          "19/01/2023",
          "20/01/2023",
          "21/01/2023",
          "22/01/2023",
          "23/01/2023",
          "24/01/2023",
          "25/01/2023",
          "26/01/2023",
          "27/01/2023",
          "28/01/2023",
          "29/01/2023",
          "30/01/2023"
         ],
         "xaxis": "x",
         "y": [
          2000,
          2300,
          2000,
          2500,
          2100,
          2100,
          2100,
          2600,
          2100,
          2300,
          2100,
          2600,
          2300,
          2300,
          2600,
          2200,
          2000,
          2600,
          2400,
          2500,
          2200,
          2300,
          2400,
          2400,
          2100,
          2100,
          2600,
          2300,
          2200,
          2000
         ],
         "yaxis": "y"
        },
        {
         "hovertemplate": "Indicador=margem lucro (%)<br>data=%{x}<br>Valor=%{text}<extra></extra>",
         "legendgroup": "margem lucro (%)",
         "line": {
          "color": "#ab63fa",
          "dash": "solid"
         },
         "marker": {
          "symbol": "circle"
         },
         "mode": "lines+text+markers",
         "name": "margem lucro (%)",
         "orientation": "v",
         "showlegend": true,
         "text": [
          "40,00%",
          "41,82%",
          "41,67%",
          "41,67%",
          "40,38%",
          "39,62%",
          "41,18%",
          "44,07%",
          "43,75%",
          "41,82%",
          "40,38%",
          "43,33%",
          "42,59%",
          "41,07%",
          "44,83%",
          "41,51%",
          "41,67%",
          "44,07%",
          "43,64%",
          "41,67%",
          "42,31%",
          "42,59%",
          "42,86%",
          "42,11%",
          "42,86%",
          "40,38%",
          "43,33%",
          "41,82%",
          "41,51%",
          "41,67%"
         ],
         "type": "scatter",
         "x": [
          "01/01/2023",
          "02/01/2023",
          "03/01/2023",
          "04/01/2023",
          "05/01/2023",
          "06/01/2023",
          "07/01/2023",
          "08/01/2023",
          "09/01/2023",
          "10/01/2023",
          "11/01/2023",
          "12/01/2023",
          "13/01/2023",
          "14/01/2023",
          "15/01/2023",
          "16/01/2023",
          "17/01/2023",
          "18/01/2023",
          "19/01/2023",
          "20/01/2023",
          "21/01/2023",
          "22/01/2023",
          "23/01/2023",
          "24/01/2023",
          "25/01/2023",
          "26/01/2023",
          "27/01/2023",
          "28/01/2023",
          "29/01/2023",
          "30/01/2023"
         ],
         "xaxis": "x",
         "y": [
          "40,00%",
          "41,82%",
          "41,67%",
          "41,67%",
          "40,38%",
          "39,62%",
          "41,18%",
          "44,07%",
          "43,75%",
          "41,82%",
          "40,38%",
          "43,33%",
          "42,59%",
          "41,07%",
          "44,83%",
          "41,51%",
          "41,67%",
          "44,07%",
          "43,64%",
          "41,67%",
          "42,31%",
          "42,59%",
          "42,86%",
          "42,11%",
          "42,86%",
          "40,38%",
          "43,33%",
          "41,82%",
          "41,51%",
          "41,67%"
         ],
         "yaxis": "y"
        },
        {
         "hovertemplate": "Indicador=crescimento (%)<br>data=%{x}<br>Valor=%{text}<extra></extra>",
         "legendgroup": "crescimento (%)",
         "line": {
          "color": "#FFA15A",
          "dash": "solid"
         },
         "marker": {
          "symbol": "circle"
         },
         "mode": "lines+text+markers",
         "name": "crescimento (%)",
         "orientation": "v",
         "showlegend": true,
         "text": [
          "0%",
          "15,00%",
          "-13,04%",
          "25,00%",
          "-16,00%",
          "0,00%",
          "0,00%",
          "23,81%",
          "-19,23%",
          "9,52%",
          "-8,70%",
          "23,81%",
          "-11,54%",
          "0,00%",
          "13,04%",
          "-15,38%",
          "-9,09%",
          "30,00%",
          "-7,69%",
          "4,17%",
          "-12,00%",
          "4,55%",
          "4,35%",
          "0,00%",
          "-12,50%",
          "0,00%",
          "23,81%",
          "-11,54%",
          "-4,35%",
          "-9,09%"
         ],
         "type": "scatter",
         "x": [
          "01/01/2023",
          "02/01/2023",
          "03/01/2023",
          "04/01/2023",
          "05/01/2023",
          "06/01/2023",
          "07/01/2023",
          "08/01/2023",
          "09/01/2023",
          "10/01/2023",
          "11/01/2023",
          "12/01/2023",
          "13/01/2023",
          "14/01/2023",
          "15/01/2023",
          "16/01/2023",
          "17/01/2023",
          "18/01/2023",
          "19/01/2023",
          "20/01/2023",
          "21/01/2023",
          "22/01/2023",
          "23/01/2023",
          "24/01/2023",
          "25/01/2023",
          "26/01/2023",
          "27/01/2023",
          "28/01/2023",
          "29/01/2023",
          "30/01/2023"
         ],
         "xaxis": "x",
         "y": [
          "0%",
          "15,00%",
          "-13,04%",
          "25,00%",
          "-16,00%",
          "0,00%",
          "0,00%",
          "23,81%",
          "-19,23%",
          "9,52%",
          "-8,70%",
          "23,81%",
          "-11,54%",
          "0,00%",
          "13,04%",
          "-15,38%",
          "-9,09%",
          "30,00%",
          "-7,69%",
          "4,17%",
          "-12,00%",
          "4,55%",
          "4,35%",
          "0,00%",
          "-12,50%",
          "0,00%",
          "23,81%",
          "-11,54%",
          "-4,35%",
          "-9,09%"
         ],
         "yaxis": "y"
        }
       ],
       "layout": {
        "legend": {
         "title": {
          "text": "Indicador"
         },
         "tracegroupgap": 0
        },
        "margin": {
         "t": 60
        },
        "template": {
         "data": {
          "bar": [
           {
            "error_x": {
             "color": "#2a3f5f"
            },
            "error_y": {
             "color": "#2a3f5f"
            },
            "marker": {
             "line": {
              "color": "#E5ECF6",
              "width": 0.5
             },
             "pattern": {
              "fillmode": "overlay",
              "size": 10,
              "solidity": 0.2
             }
            },
            "type": "bar"
           }
          ],
          "barpolar": [
           {
            "marker": {
             "line": {
              "color": "#E5ECF6",
              "width": 0.5
             },
             "pattern": {
              "fillmode": "overlay",
              "size": 10,
              "solidity": 0.2
             }
            },
            "type": "barpolar"
           }
          ],
          "carpet": [
           {
            "aaxis": {
             "endlinecolor": "#2a3f5f",
             "gridcolor": "white",
             "linecolor": "white",
             "minorgridcolor": "white",
             "startlinecolor": "#2a3f5f"
            },
            "baxis": {
             "endlinecolor": "#2a3f5f",
             "gridcolor": "white",
             "linecolor": "white",
             "minorgridcolor": "white",
             "startlinecolor": "#2a3f5f"
            },
            "type": "carpet"
           }
          ],
          "choropleth": [
           {
            "colorbar": {
             "outlinewidth": 0,
             "ticks": ""
            },
            "type": "choropleth"
           }
          ],
          "contour": [
           {
            "colorbar": {
             "outlinewidth": 0,
             "ticks": ""
            },
            "colorscale": [
             [
              0,
              "#0d0887"
             ],
             [
              0.1111111111111111,
              "#46039f"
             ],
             [
              0.2222222222222222,
              "#7201a8"
             ],
             [
              0.3333333333333333,
              "#9c179e"
             ],
             [
              0.4444444444444444,
              "#bd3786"
             ],
             [
              0.5555555555555556,
              "#d8576b"
             ],
             [
              0.6666666666666666,
              "#ed7953"
             ],
             [
              0.7777777777777778,
              "#fb9f3a"
             ],
             [
              0.8888888888888888,
              "#fdca26"
             ],
             [
              1,
              "#f0f921"
             ]
            ],
            "type": "contour"
           }
          ],
          "contourcarpet": [
           {
            "colorbar": {
             "outlinewidth": 0,
             "ticks": ""
            },
            "type": "contourcarpet"
           }
          ],
          "heatmap": [
           {
            "colorbar": {
             "outlinewidth": 0,
             "ticks": ""
            },
            "colorscale": [
             [
              0,
              "#0d0887"
             ],
             [
              0.1111111111111111,
              "#46039f"
             ],
             [
              0.2222222222222222,
              "#7201a8"
             ],
             [
              0.3333333333333333,
              "#9c179e"
             ],
             [
              0.4444444444444444,
              "#bd3786"
             ],
             [
              0.5555555555555556,
              "#d8576b"
             ],
             [
              0.6666666666666666,
              "#ed7953"
             ],
             [
              0.7777777777777778,
              "#fb9f3a"
             ],
             [
              0.8888888888888888,
              "#fdca26"
             ],
             [
              1,
              "#f0f921"
             ]
            ],
            "type": "heatmap"
           }
          ],
          "heatmapgl": [
           {
            "colorbar": {
             "outlinewidth": 0,
             "ticks": ""
            },
            "colorscale": [
             [
              0,
              "#0d0887"
             ],
             [
              0.1111111111111111,
              "#46039f"
             ],
             [
              0.2222222222222222,
              "#7201a8"
             ],
             [
              0.3333333333333333,
              "#9c179e"
             ],
             [
              0.4444444444444444,
              "#bd3786"
             ],
             [
              0.5555555555555556,
              "#d8576b"
             ],
             [
              0.6666666666666666,
              "#ed7953"
             ],
             [
              0.7777777777777778,
              "#fb9f3a"
             ],
             [
              0.8888888888888888,
              "#fdca26"
             ],
             [
              1,
              "#f0f921"
             ]
            ],
            "type": "heatmapgl"
           }
          ],
          "histogram": [
           {
            "marker": {
             "pattern": {
              "fillmode": "overlay",
              "size": 10,
              "solidity": 0.2
             }
            },
            "type": "histogram"
           }
          ],
          "histogram2d": [
           {
            "colorbar": {
             "outlinewidth": 0,
             "ticks": ""
            },
            "colorscale": [
             [
              0,
              "#0d0887"
             ],
             [
              0.1111111111111111,
              "#46039f"
             ],
             [
              0.2222222222222222,
              "#7201a8"
             ],
             [
              0.3333333333333333,
              "#9c179e"
             ],
             [
              0.4444444444444444,
              "#bd3786"
             ],
             [
              0.5555555555555556,
              "#d8576b"
             ],
             [
              0.6666666666666666,
              "#ed7953"
             ],
             [
              0.7777777777777778,
              "#fb9f3a"
             ],
             [
              0.8888888888888888,
              "#fdca26"
             ],
             [
              1,
              "#f0f921"
             ]
            ],
            "type": "histogram2d"
           }
          ],
          "histogram2dcontour": [
           {
            "colorbar": {
             "outlinewidth": 0,
             "ticks": ""
            },
            "colorscale": [
             [
              0,
              "#0d0887"
             ],
             [
              0.1111111111111111,
              "#46039f"
             ],
             [
              0.2222222222222222,
              "#7201a8"
             ],
             [
              0.3333333333333333,
              "#9c179e"
             ],
             [
              0.4444444444444444,
              "#bd3786"
             ],
             [
              0.5555555555555556,
              "#d8576b"
             ],
             [
              0.6666666666666666,
              "#ed7953"
             ],
             [
              0.7777777777777778,
              "#fb9f3a"
             ],
             [
              0.8888888888888888,
              "#fdca26"
             ],
             [
              1,
              "#f0f921"
             ]
            ],
            "type": "histogram2dcontour"
           }
          ],
          "mesh3d": [
           {
            "colorbar": {
             "outlinewidth": 0,
             "ticks": ""
            },
            "type": "mesh3d"
           }
          ],
          "parcoords": [
           {
            "line": {
             "colorbar": {
              "outlinewidth": 0,
              "ticks": ""
             }
            },
            "type": "parcoords"
           }
          ],
          "pie": [
           {
            "automargin": true,
            "type": "pie"
           }
          ],
          "scatter": [
           {
            "fillpattern": {
             "fillmode": "overlay",
             "size": 10,
             "solidity": 0.2
            },
            "type": "scatter"
           }
          ],
          "scatter3d": [
           {
            "line": {
             "colorbar": {
              "outlinewidth": 0,
              "ticks": ""
             }
            },
            "marker": {
             "colorbar": {
              "outlinewidth": 0,
              "ticks": ""
             }
            },
            "type": "scatter3d"
           }
          ],
          "scattercarpet": [
           {
            "marker": {
             "colorbar": {
              "outlinewidth": 0,
              "ticks": ""
             }
            },
            "type": "scattercarpet"
           }
          ],
          "scattergeo": [
           {
            "marker": {
             "colorbar": {
              "outlinewidth": 0,
              "ticks": ""
             }
            },
            "type": "scattergeo"
           }
          ],
          "scattergl": [
           {
            "marker": {
             "colorbar": {
              "outlinewidth": 0,
              "ticks": ""
             }
            },
            "type": "scattergl"
           }
          ],
          "scattermapbox": [
           {
            "marker": {
             "colorbar": {
              "outlinewidth": 0,
              "ticks": ""
             }
            },
            "type": "scattermapbox"
           }
          ],
          "scatterpolar": [
           {
            "marker": {
             "colorbar": {
              "outlinewidth": 0,
              "ticks": ""
             }
            },
            "type": "scatterpolar"
           }
          ],
          "scatterpolargl": [
           {
            "marker": {
             "colorbar": {
              "outlinewidth": 0,
              "ticks": ""
             }
            },
            "type": "scatterpolargl"
           }
          ],
          "scatterternary": [
           {
            "marker": {
             "colorbar": {
              "outlinewidth": 0,
              "ticks": ""
             }
            },
            "type": "scatterternary"
           }
          ],
          "surface": [
           {
            "colorbar": {
             "outlinewidth": 0,
             "ticks": ""
            },
            "colorscale": [
             [
              0,
              "#0d0887"
             ],
             [
              0.1111111111111111,
              "#46039f"
             ],
             [
              0.2222222222222222,
              "#7201a8"
             ],
             [
              0.3333333333333333,
              "#9c179e"
             ],
             [
              0.4444444444444444,
              "#bd3786"
             ],
             [
              0.5555555555555556,
              "#d8576b"
             ],
             [
              0.6666666666666666,
              "#ed7953"
             ],
             [
              0.7777777777777778,
              "#fb9f3a"
             ],
             [
              0.8888888888888888,
              "#fdca26"
             ],
             [
              1,
              "#f0f921"
             ]
            ],
            "type": "surface"
           }
          ],
          "table": [
           {
            "cells": {
             "fill": {
              "color": "#EBF0F8"
             },
             "line": {
              "color": "white"
             }
            },
            "header": {
             "fill": {
              "color": "#C8D4E3"
             },
             "line": {
              "color": "white"
             }
            },
            "type": "table"
           }
          ]
         },
         "layout": {
          "annotationdefaults": {
           "arrowcolor": "#2a3f5f",
           "arrowhead": 0,
           "arrowwidth": 1
          },
          "autotypenumbers": "strict",
          "coloraxis": {
           "colorbar": {
            "outlinewidth": 0,
            "ticks": ""
           }
          },
          "colorscale": {
           "diverging": [
            [
             0,
             "#8e0152"
            ],
            [
             0.1,
             "#c51b7d"
            ],
            [
             0.2,
             "#de77ae"
            ],
            [
             0.3,
             "#f1b6da"
            ],
            [
             0.4,
             "#fde0ef"
            ],
            [
             0.5,
             "#f7f7f7"
            ],
            [
             0.6,
             "#e6f5d0"
            ],
            [
             0.7,
             "#b8e186"
            ],
            [
             0.8,
             "#7fbc41"
            ],
            [
             0.9,
             "#4d9221"
            ],
            [
             1,
             "#276419"
            ]
           ],
           "sequential": [
            [
             0,
             "#0d0887"
            ],
            [
             0.1111111111111111,
             "#46039f"
            ],
            [
             0.2222222222222222,
             "#7201a8"
            ],
            [
             0.3333333333333333,
             "#9c179e"
            ],
            [
             0.4444444444444444,
             "#bd3786"
            ],
            [
             0.5555555555555556,
             "#d8576b"
            ],
            [
             0.6666666666666666,
             "#ed7953"
            ],
            [
             0.7777777777777778,
             "#fb9f3a"
            ],
            [
             0.8888888888888888,
             "#fdca26"
            ],
            [
             1,
             "#f0f921"
            ]
           ],
           "sequentialminus": [
            [
             0,
             "#0d0887"
            ],
            [
             0.1111111111111111,
             "#46039f"
            ],
            [
             0.2222222222222222,
             "#7201a8"
            ],
            [
             0.3333333333333333,
             "#9c179e"
            ],
            [
             0.4444444444444444,
             "#bd3786"
            ],
            [
             0.5555555555555556,
             "#d8576b"
            ],
            [
             0.6666666666666666,
             "#ed7953"
            ],
            [
             0.7777777777777778,
             "#fb9f3a"
            ],
            [
             0.8888888888888888,
             "#fdca26"
            ],
            [
             1,
             "#f0f921"
            ]
           ]
          },
          "colorway": [
           "#636efa",
           "#EF553B",
           "#00cc96",
           "#ab63fa",
           "#FFA15A",
           "#19d3f3",
           "#FF6692",
           "#B6E880",
           "#FF97FF",
           "#FECB52"
          ],
          "font": {
           "color": "#2a3f5f"
          },
          "geo": {
           "bgcolor": "white",
           "lakecolor": "white",
           "landcolor": "#E5ECF6",
           "showlakes": true,
           "showland": true,
           "subunitcolor": "white"
          },
          "hoverlabel": {
           "align": "left"
          },
          "hovermode": "closest",
          "mapbox": {
           "style": "light"
          },
          "paper_bgcolor": "white",
          "plot_bgcolor": "#E5ECF6",
          "polar": {
           "angularaxis": {
            "gridcolor": "white",
            "linecolor": "white",
            "ticks": ""
           },
           "bgcolor": "#E5ECF6",
           "radialaxis": {
            "gridcolor": "white",
            "linecolor": "white",
            "ticks": ""
           }
          },
          "scene": {
           "xaxis": {
            "backgroundcolor": "#E5ECF6",
            "gridcolor": "white",
            "gridwidth": 2,
            "linecolor": "white",
            "showbackground": true,
            "ticks": "",
            "zerolinecolor": "white"
           },
           "yaxis": {
            "backgroundcolor": "#E5ECF6",
            "gridcolor": "white",
            "gridwidth": 2,
            "linecolor": "white",
            "showbackground": true,
            "ticks": "",
            "zerolinecolor": "white"
           },
           "zaxis": {
            "backgroundcolor": "#E5ECF6",
            "gridcolor": "white",
            "gridwidth": 2,
            "linecolor": "white",
            "showbackground": true,
            "ticks": "",
            "zerolinecolor": "white"
           }
          },
          "shapedefaults": {
           "line": {
            "color": "#2a3f5f"
           }
          },
          "ternary": {
           "aaxis": {
            "gridcolor": "white",
            "linecolor": "white",
            "ticks": ""
           },
           "baxis": {
            "gridcolor": "white",
            "linecolor": "white",
            "ticks": ""
           },
           "bgcolor": "#E5ECF6",
           "caxis": {
            "gridcolor": "white",
            "linecolor": "white",
            "ticks": ""
           }
          },
          "title": {
           "x": 0.05
          },
          "xaxis": {
           "automargin": true,
           "gridcolor": "white",
           "linecolor": "white",
           "ticks": "",
           "title": {
            "standoff": 15
           },
           "zerolinecolor": "white",
           "zerolinewidth": 2
          },
          "yaxis": {
           "automargin": true,
           "gridcolor": "white",
           "linecolor": "white",
           "ticks": "",
           "title": {
            "standoff": 15
           },
           "zerolinecolor": "white",
           "zerolinewidth": 2
          }
         }
        },
        "title": {
         "text": "Evolução das Vendas"
        },
        "xaxis": {
         "anchor": "y",
         "domain": [
          0,
          1
         ],
         "title": {
          "text": "data"
         }
        },
        "yaxis": {
         "anchor": "x",
         "domain": [
          0,
          1
         ],
         "title": {
          "text": "Valor"
         }
        }
       }
      },
      "text/html": [
       "<div>                            <div id=\"1d195297-a674-494f-9c3f-7da417485ace\" class=\"plotly-graph-div\" style=\"height:525px; width:100%;\"></div>            <script type=\"text/javascript\">                require([\"plotly\"], function(Plotly) {                    window.PLOTLYENV=window.PLOTLYENV || {};                                    if (document.getElementById(\"1d195297-a674-494f-9c3f-7da417485ace\")) {                    Plotly.newPlot(                        \"1d195297-a674-494f-9c3f-7da417485ace\",                        [{\"hovertemplate\":\"Indicador=faturamento\\u003cbr\\u003edata=%{x}\\u003cbr\\u003eValor=%{text}\\u003cextra\\u003e\\u003c\\u002fextra\\u003e\",\"legendgroup\":\"faturamento\",\"line\":{\"color\":\"#636efa\",\"dash\":\"solid\"},\"marker\":{\"symbol\":\"circle\"},\"mode\":\"lines+text+markers\",\"name\":\"faturamento\",\"orientation\":\"v\",\"showlegend\":true,\"text\":[5000,5500,4800,6000,5200,5300,5100,5900,4800,5500,5200,6000,5400,5600,5800,5300,4800,5900,5500,6000,5200,5400,5600,5700,4900,5200,6000,5500,5300,4800],\"x\":[\"01\\u002f01\\u002f2023\",\"02\\u002f01\\u002f2023\",\"03\\u002f01\\u002f2023\",\"04\\u002f01\\u002f2023\",\"05\\u002f01\\u002f2023\",\"06\\u002f01\\u002f2023\",\"07\\u002f01\\u002f2023\",\"08\\u002f01\\u002f2023\",\"09\\u002f01\\u002f2023\",\"10\\u002f01\\u002f2023\",\"11\\u002f01\\u002f2023\",\"12\\u002f01\\u002f2023\",\"13\\u002f01\\u002f2023\",\"14\\u002f01\\u002f2023\",\"15\\u002f01\\u002f2023\",\"16\\u002f01\\u002f2023\",\"17\\u002f01\\u002f2023\",\"18\\u002f01\\u002f2023\",\"19\\u002f01\\u002f2023\",\"20\\u002f01\\u002f2023\",\"21\\u002f01\\u002f2023\",\"22\\u002f01\\u002f2023\",\"23\\u002f01\\u002f2023\",\"24\\u002f01\\u002f2023\",\"25\\u002f01\\u002f2023\",\"26\\u002f01\\u002f2023\",\"27\\u002f01\\u002f2023\",\"28\\u002f01\\u002f2023\",\"29\\u002f01\\u002f2023\",\"30\\u002f01\\u002f2023\"],\"xaxis\":\"x\",\"y\":[5000,5500,4800,6000,5200,5300,5100,5900,4800,5500,5200,6000,5400,5600,5800,5300,4800,5900,5500,6000,5200,5400,5600,5700,4900,5200,6000,5500,5300,4800],\"yaxis\":\"y\",\"type\":\"scatter\"},{\"hovertemplate\":\"Indicador=custo\\u003cbr\\u003edata=%{x}\\u003cbr\\u003eValor=%{text}\\u003cextra\\u003e\\u003c\\u002fextra\\u003e\",\"legendgroup\":\"custo\",\"line\":{\"color\":\"#EF553B\",\"dash\":\"solid\"},\"marker\":{\"symbol\":\"circle\"},\"mode\":\"lines+text+markers\",\"name\":\"custo\",\"orientation\":\"v\",\"showlegend\":true,\"text\":[3000,3200,2800,3500,3100,3200,3000,3300,2700,3200,3100,3400,3100,3300,3200,3100,2800,3300,3100,3500,3000,3100,3200,3300,2800,3100,3400,3200,3100,2800],\"x\":[\"01\\u002f01\\u002f2023\",\"02\\u002f01\\u002f2023\",\"03\\u002f01\\u002f2023\",\"04\\u002f01\\u002f2023\",\"05\\u002f01\\u002f2023\",\"06\\u002f01\\u002f2023\",\"07\\u002f01\\u002f2023\",\"08\\u002f01\\u002f2023\",\"09\\u002f01\\u002f2023\",\"10\\u002f01\\u002f2023\",\"11\\u002f01\\u002f2023\",\"12\\u002f01\\u002f2023\",\"13\\u002f01\\u002f2023\",\"14\\u002f01\\u002f2023\",\"15\\u002f01\\u002f2023\",\"16\\u002f01\\u002f2023\",\"17\\u002f01\\u002f2023\",\"18\\u002f01\\u002f2023\",\"19\\u002f01\\u002f2023\",\"20\\u002f01\\u002f2023\",\"21\\u002f01\\u002f2023\",\"22\\u002f01\\u002f2023\",\"23\\u002f01\\u002f2023\",\"24\\u002f01\\u002f2023\",\"25\\u002f01\\u002f2023\",\"26\\u002f01\\u002f2023\",\"27\\u002f01\\u002f2023\",\"28\\u002f01\\u002f2023\",\"29\\u002f01\\u002f2023\",\"30\\u002f01\\u002f2023\"],\"xaxis\":\"x\",\"y\":[3000,3200,2800,3500,3100,3200,3000,3300,2700,3200,3100,3400,3100,3300,3200,3100,2800,3300,3100,3500,3000,3100,3200,3300,2800,3100,3400,3200,3100,2800],\"yaxis\":\"y\",\"type\":\"scatter\"},{\"hovertemplate\":\"Indicador=lucro\\u003cbr\\u003edata=%{x}\\u003cbr\\u003eValor=%{text}\\u003cextra\\u003e\\u003c\\u002fextra\\u003e\",\"legendgroup\":\"lucro\",\"line\":{\"color\":\"#00cc96\",\"dash\":\"solid\"},\"marker\":{\"symbol\":\"circle\"},\"mode\":\"lines+text+markers\",\"name\":\"lucro\",\"orientation\":\"v\",\"showlegend\":true,\"text\":[2000,2300,2000,2500,2100,2100,2100,2600,2100,2300,2100,2600,2300,2300,2600,2200,2000,2600,2400,2500,2200,2300,2400,2400,2100,2100,2600,2300,2200,2000],\"x\":[\"01\\u002f01\\u002f2023\",\"02\\u002f01\\u002f2023\",\"03\\u002f01\\u002f2023\",\"04\\u002f01\\u002f2023\",\"05\\u002f01\\u002f2023\",\"06\\u002f01\\u002f2023\",\"07\\u002f01\\u002f2023\",\"08\\u002f01\\u002f2023\",\"09\\u002f01\\u002f2023\",\"10\\u002f01\\u002f2023\",\"11\\u002f01\\u002f2023\",\"12\\u002f01\\u002f2023\",\"13\\u002f01\\u002f2023\",\"14\\u002f01\\u002f2023\",\"15\\u002f01\\u002f2023\",\"16\\u002f01\\u002f2023\",\"17\\u002f01\\u002f2023\",\"18\\u002f01\\u002f2023\",\"19\\u002f01\\u002f2023\",\"20\\u002f01\\u002f2023\",\"21\\u002f01\\u002f2023\",\"22\\u002f01\\u002f2023\",\"23\\u002f01\\u002f2023\",\"24\\u002f01\\u002f2023\",\"25\\u002f01\\u002f2023\",\"26\\u002f01\\u002f2023\",\"27\\u002f01\\u002f2023\",\"28\\u002f01\\u002f2023\",\"29\\u002f01\\u002f2023\",\"30\\u002f01\\u002f2023\"],\"xaxis\":\"x\",\"y\":[2000,2300,2000,2500,2100,2100,2100,2600,2100,2300,2100,2600,2300,2300,2600,2200,2000,2600,2400,2500,2200,2300,2400,2400,2100,2100,2600,2300,2200,2000],\"yaxis\":\"y\",\"type\":\"scatter\"},{\"hovertemplate\":\"Indicador=margem lucro (%)\\u003cbr\\u003edata=%{x}\\u003cbr\\u003eValor=%{text}\\u003cextra\\u003e\\u003c\\u002fextra\\u003e\",\"legendgroup\":\"margem lucro (%)\",\"line\":{\"color\":\"#ab63fa\",\"dash\":\"solid\"},\"marker\":{\"symbol\":\"circle\"},\"mode\":\"lines+text+markers\",\"name\":\"margem lucro (%)\",\"orientation\":\"v\",\"showlegend\":true,\"text\":[\"40,00%\",\"41,82%\",\"41,67%\",\"41,67%\",\"40,38%\",\"39,62%\",\"41,18%\",\"44,07%\",\"43,75%\",\"41,82%\",\"40,38%\",\"43,33%\",\"42,59%\",\"41,07%\",\"44,83%\",\"41,51%\",\"41,67%\",\"44,07%\",\"43,64%\",\"41,67%\",\"42,31%\",\"42,59%\",\"42,86%\",\"42,11%\",\"42,86%\",\"40,38%\",\"43,33%\",\"41,82%\",\"41,51%\",\"41,67%\"],\"x\":[\"01\\u002f01\\u002f2023\",\"02\\u002f01\\u002f2023\",\"03\\u002f01\\u002f2023\",\"04\\u002f01\\u002f2023\",\"05\\u002f01\\u002f2023\",\"06\\u002f01\\u002f2023\",\"07\\u002f01\\u002f2023\",\"08\\u002f01\\u002f2023\",\"09\\u002f01\\u002f2023\",\"10\\u002f01\\u002f2023\",\"11\\u002f01\\u002f2023\",\"12\\u002f01\\u002f2023\",\"13\\u002f01\\u002f2023\",\"14\\u002f01\\u002f2023\",\"15\\u002f01\\u002f2023\",\"16\\u002f01\\u002f2023\",\"17\\u002f01\\u002f2023\",\"18\\u002f01\\u002f2023\",\"19\\u002f01\\u002f2023\",\"20\\u002f01\\u002f2023\",\"21\\u002f01\\u002f2023\",\"22\\u002f01\\u002f2023\",\"23\\u002f01\\u002f2023\",\"24\\u002f01\\u002f2023\",\"25\\u002f01\\u002f2023\",\"26\\u002f01\\u002f2023\",\"27\\u002f01\\u002f2023\",\"28\\u002f01\\u002f2023\",\"29\\u002f01\\u002f2023\",\"30\\u002f01\\u002f2023\"],\"xaxis\":\"x\",\"y\":[\"40,00%\",\"41,82%\",\"41,67%\",\"41,67%\",\"40,38%\",\"39,62%\",\"41,18%\",\"44,07%\",\"43,75%\",\"41,82%\",\"40,38%\",\"43,33%\",\"42,59%\",\"41,07%\",\"44,83%\",\"41,51%\",\"41,67%\",\"44,07%\",\"43,64%\",\"41,67%\",\"42,31%\",\"42,59%\",\"42,86%\",\"42,11%\",\"42,86%\",\"40,38%\",\"43,33%\",\"41,82%\",\"41,51%\",\"41,67%\"],\"yaxis\":\"y\",\"type\":\"scatter\"},{\"hovertemplate\":\"Indicador=crescimento (%)\\u003cbr\\u003edata=%{x}\\u003cbr\\u003eValor=%{text}\\u003cextra\\u003e\\u003c\\u002fextra\\u003e\",\"legendgroup\":\"crescimento (%)\",\"line\":{\"color\":\"#FFA15A\",\"dash\":\"solid\"},\"marker\":{\"symbol\":\"circle\"},\"mode\":\"lines+text+markers\",\"name\":\"crescimento (%)\",\"orientation\":\"v\",\"showlegend\":true,\"text\":[\"0%\",\"15,00%\",\"-13,04%\",\"25,00%\",\"-16,00%\",\"0,00%\",\"0,00%\",\"23,81%\",\"-19,23%\",\"9,52%\",\"-8,70%\",\"23,81%\",\"-11,54%\",\"0,00%\",\"13,04%\",\"-15,38%\",\"-9,09%\",\"30,00%\",\"-7,69%\",\"4,17%\",\"-12,00%\",\"4,55%\",\"4,35%\",\"0,00%\",\"-12,50%\",\"0,00%\",\"23,81%\",\"-11,54%\",\"-4,35%\",\"-9,09%\"],\"x\":[\"01\\u002f01\\u002f2023\",\"02\\u002f01\\u002f2023\",\"03\\u002f01\\u002f2023\",\"04\\u002f01\\u002f2023\",\"05\\u002f01\\u002f2023\",\"06\\u002f01\\u002f2023\",\"07\\u002f01\\u002f2023\",\"08\\u002f01\\u002f2023\",\"09\\u002f01\\u002f2023\",\"10\\u002f01\\u002f2023\",\"11\\u002f01\\u002f2023\",\"12\\u002f01\\u002f2023\",\"13\\u002f01\\u002f2023\",\"14\\u002f01\\u002f2023\",\"15\\u002f01\\u002f2023\",\"16\\u002f01\\u002f2023\",\"17\\u002f01\\u002f2023\",\"18\\u002f01\\u002f2023\",\"19\\u002f01\\u002f2023\",\"20\\u002f01\\u002f2023\",\"21\\u002f01\\u002f2023\",\"22\\u002f01\\u002f2023\",\"23\\u002f01\\u002f2023\",\"24\\u002f01\\u002f2023\",\"25\\u002f01\\u002f2023\",\"26\\u002f01\\u002f2023\",\"27\\u002f01\\u002f2023\",\"28\\u002f01\\u002f2023\",\"29\\u002f01\\u002f2023\",\"30\\u002f01\\u002f2023\"],\"xaxis\":\"x\",\"y\":[\"0%\",\"15,00%\",\"-13,04%\",\"25,00%\",\"-16,00%\",\"0,00%\",\"0,00%\",\"23,81%\",\"-19,23%\",\"9,52%\",\"-8,70%\",\"23,81%\",\"-11,54%\",\"0,00%\",\"13,04%\",\"-15,38%\",\"-9,09%\",\"30,00%\",\"-7,69%\",\"4,17%\",\"-12,00%\",\"4,55%\",\"4,35%\",\"0,00%\",\"-12,50%\",\"0,00%\",\"23,81%\",\"-11,54%\",\"-4,35%\",\"-9,09%\"],\"yaxis\":\"y\",\"type\":\"scatter\"}],                        {\"template\":{\"data\":{\"histogram2dcontour\":[{\"type\":\"histogram2dcontour\",\"colorbar\":{\"outlinewidth\":0,\"ticks\":\"\"},\"colorscale\":[[0.0,\"#0d0887\"],[0.1111111111111111,\"#46039f\"],[0.2222222222222222,\"#7201a8\"],[0.3333333333333333,\"#9c179e\"],[0.4444444444444444,\"#bd3786\"],[0.5555555555555556,\"#d8576b\"],[0.6666666666666666,\"#ed7953\"],[0.7777777777777778,\"#fb9f3a\"],[0.8888888888888888,\"#fdca26\"],[1.0,\"#f0f921\"]]}],\"choropleth\":[{\"type\":\"choropleth\",\"colorbar\":{\"outlinewidth\":0,\"ticks\":\"\"}}],\"histogram2d\":[{\"type\":\"histogram2d\",\"colorbar\":{\"outlinewidth\":0,\"ticks\":\"\"},\"colorscale\":[[0.0,\"#0d0887\"],[0.1111111111111111,\"#46039f\"],[0.2222222222222222,\"#7201a8\"],[0.3333333333333333,\"#9c179e\"],[0.4444444444444444,\"#bd3786\"],[0.5555555555555556,\"#d8576b\"],[0.6666666666666666,\"#ed7953\"],[0.7777777777777778,\"#fb9f3a\"],[0.8888888888888888,\"#fdca26\"],[1.0,\"#f0f921\"]]}],\"heatmap\":[{\"type\":\"heatmap\",\"colorbar\":{\"outlinewidth\":0,\"ticks\":\"\"},\"colorscale\":[[0.0,\"#0d0887\"],[0.1111111111111111,\"#46039f\"],[0.2222222222222222,\"#7201a8\"],[0.3333333333333333,\"#9c179e\"],[0.4444444444444444,\"#bd3786\"],[0.5555555555555556,\"#d8576b\"],[0.6666666666666666,\"#ed7953\"],[0.7777777777777778,\"#fb9f3a\"],[0.8888888888888888,\"#fdca26\"],[1.0,\"#f0f921\"]]}],\"heatmapgl\":[{\"type\":\"heatmapgl\",\"colorbar\":{\"outlinewidth\":0,\"ticks\":\"\"},\"colorscale\":[[0.0,\"#0d0887\"],[0.1111111111111111,\"#46039f\"],[0.2222222222222222,\"#7201a8\"],[0.3333333333333333,\"#9c179e\"],[0.4444444444444444,\"#bd3786\"],[0.5555555555555556,\"#d8576b\"],[0.6666666666666666,\"#ed7953\"],[0.7777777777777778,\"#fb9f3a\"],[0.8888888888888888,\"#fdca26\"],[1.0,\"#f0f921\"]]}],\"contourcarpet\":[{\"type\":\"contourcarpet\",\"colorbar\":{\"outlinewidth\":0,\"ticks\":\"\"}}],\"contour\":[{\"type\":\"contour\",\"colorbar\":{\"outlinewidth\":0,\"ticks\":\"\"},\"colorscale\":[[0.0,\"#0d0887\"],[0.1111111111111111,\"#46039f\"],[0.2222222222222222,\"#7201a8\"],[0.3333333333333333,\"#9c179e\"],[0.4444444444444444,\"#bd3786\"],[0.5555555555555556,\"#d8576b\"],[0.6666666666666666,\"#ed7953\"],[0.7777777777777778,\"#fb9f3a\"],[0.8888888888888888,\"#fdca26\"],[1.0,\"#f0f921\"]]}],\"surface\":[{\"type\":\"surface\",\"colorbar\":{\"outlinewidth\":0,\"ticks\":\"\"},\"colorscale\":[[0.0,\"#0d0887\"],[0.1111111111111111,\"#46039f\"],[0.2222222222222222,\"#7201a8\"],[0.3333333333333333,\"#9c179e\"],[0.4444444444444444,\"#bd3786\"],[0.5555555555555556,\"#d8576b\"],[0.6666666666666666,\"#ed7953\"],[0.7777777777777778,\"#fb9f3a\"],[0.8888888888888888,\"#fdca26\"],[1.0,\"#f0f921\"]]}],\"mesh3d\":[{\"type\":\"mesh3d\",\"colorbar\":{\"outlinewidth\":0,\"ticks\":\"\"}}],\"scatter\":[{\"fillpattern\":{\"fillmode\":\"overlay\",\"size\":10,\"solidity\":0.2},\"type\":\"scatter\"}],\"parcoords\":[{\"type\":\"parcoords\",\"line\":{\"colorbar\":{\"outlinewidth\":0,\"ticks\":\"\"}}}],\"scatterpolargl\":[{\"type\":\"scatterpolargl\",\"marker\":{\"colorbar\":{\"outlinewidth\":0,\"ticks\":\"\"}}}],\"bar\":[{\"error_x\":{\"color\":\"#2a3f5f\"},\"error_y\":{\"color\":\"#2a3f5f\"},\"marker\":{\"line\":{\"color\":\"#E5ECF6\",\"width\":0.5},\"pattern\":{\"fillmode\":\"overlay\",\"size\":10,\"solidity\":0.2}},\"type\":\"bar\"}],\"scattergeo\":[{\"type\":\"scattergeo\",\"marker\":{\"colorbar\":{\"outlinewidth\":0,\"ticks\":\"\"}}}],\"scatterpolar\":[{\"type\":\"scatterpolar\",\"marker\":{\"colorbar\":{\"outlinewidth\":0,\"ticks\":\"\"}}}],\"histogram\":[{\"marker\":{\"pattern\":{\"fillmode\":\"overlay\",\"size\":10,\"solidity\":0.2}},\"type\":\"histogram\"}],\"scattergl\":[{\"type\":\"scattergl\",\"marker\":{\"colorbar\":{\"outlinewidth\":0,\"ticks\":\"\"}}}],\"scatter3d\":[{\"type\":\"scatter3d\",\"line\":{\"colorbar\":{\"outlinewidth\":0,\"ticks\":\"\"}},\"marker\":{\"colorbar\":{\"outlinewidth\":0,\"ticks\":\"\"}}}],\"scattermapbox\":[{\"type\":\"scattermapbox\",\"marker\":{\"colorbar\":{\"outlinewidth\":0,\"ticks\":\"\"}}}],\"scatterternary\":[{\"type\":\"scatterternary\",\"marker\":{\"colorbar\":{\"outlinewidth\":0,\"ticks\":\"\"}}}],\"scattercarpet\":[{\"type\":\"scattercarpet\",\"marker\":{\"colorbar\":{\"outlinewidth\":0,\"ticks\":\"\"}}}],\"carpet\":[{\"aaxis\":{\"endlinecolor\":\"#2a3f5f\",\"gridcolor\":\"white\",\"linecolor\":\"white\",\"minorgridcolor\":\"white\",\"startlinecolor\":\"#2a3f5f\"},\"baxis\":{\"endlinecolor\":\"#2a3f5f\",\"gridcolor\":\"white\",\"linecolor\":\"white\",\"minorgridcolor\":\"white\",\"startlinecolor\":\"#2a3f5f\"},\"type\":\"carpet\"}],\"table\":[{\"cells\":{\"fill\":{\"color\":\"#EBF0F8\"},\"line\":{\"color\":\"white\"}},\"header\":{\"fill\":{\"color\":\"#C8D4E3\"},\"line\":{\"color\":\"white\"}},\"type\":\"table\"}],\"barpolar\":[{\"marker\":{\"line\":{\"color\":\"#E5ECF6\",\"width\":0.5},\"pattern\":{\"fillmode\":\"overlay\",\"size\":10,\"solidity\":0.2}},\"type\":\"barpolar\"}],\"pie\":[{\"automargin\":true,\"type\":\"pie\"}]},\"layout\":{\"autotypenumbers\":\"strict\",\"colorway\":[\"#636efa\",\"#EF553B\",\"#00cc96\",\"#ab63fa\",\"#FFA15A\",\"#19d3f3\",\"#FF6692\",\"#B6E880\",\"#FF97FF\",\"#FECB52\"],\"font\":{\"color\":\"#2a3f5f\"},\"hovermode\":\"closest\",\"hoverlabel\":{\"align\":\"left\"},\"paper_bgcolor\":\"white\",\"plot_bgcolor\":\"#E5ECF6\",\"polar\":{\"bgcolor\":\"#E5ECF6\",\"angularaxis\":{\"gridcolor\":\"white\",\"linecolor\":\"white\",\"ticks\":\"\"},\"radialaxis\":{\"gridcolor\":\"white\",\"linecolor\":\"white\",\"ticks\":\"\"}},\"ternary\":{\"bgcolor\":\"#E5ECF6\",\"aaxis\":{\"gridcolor\":\"white\",\"linecolor\":\"white\",\"ticks\":\"\"},\"baxis\":{\"gridcolor\":\"white\",\"linecolor\":\"white\",\"ticks\":\"\"},\"caxis\":{\"gridcolor\":\"white\",\"linecolor\":\"white\",\"ticks\":\"\"}},\"coloraxis\":{\"colorbar\":{\"outlinewidth\":0,\"ticks\":\"\"}},\"colorscale\":{\"sequential\":[[0.0,\"#0d0887\"],[0.1111111111111111,\"#46039f\"],[0.2222222222222222,\"#7201a8\"],[0.3333333333333333,\"#9c179e\"],[0.4444444444444444,\"#bd3786\"],[0.5555555555555556,\"#d8576b\"],[0.6666666666666666,\"#ed7953\"],[0.7777777777777778,\"#fb9f3a\"],[0.8888888888888888,\"#fdca26\"],[1.0,\"#f0f921\"]],\"sequentialminus\":[[0.0,\"#0d0887\"],[0.1111111111111111,\"#46039f\"],[0.2222222222222222,\"#7201a8\"],[0.3333333333333333,\"#9c179e\"],[0.4444444444444444,\"#bd3786\"],[0.5555555555555556,\"#d8576b\"],[0.6666666666666666,\"#ed7953\"],[0.7777777777777778,\"#fb9f3a\"],[0.8888888888888888,\"#fdca26\"],[1.0,\"#f0f921\"]],\"diverging\":[[0,\"#8e0152\"],[0.1,\"#c51b7d\"],[0.2,\"#de77ae\"],[0.3,\"#f1b6da\"],[0.4,\"#fde0ef\"],[0.5,\"#f7f7f7\"],[0.6,\"#e6f5d0\"],[0.7,\"#b8e186\"],[0.8,\"#7fbc41\"],[0.9,\"#4d9221\"],[1,\"#276419\"]]},\"xaxis\":{\"gridcolor\":\"white\",\"linecolor\":\"white\",\"ticks\":\"\",\"title\":{\"standoff\":15},\"zerolinecolor\":\"white\",\"automargin\":true,\"zerolinewidth\":2},\"yaxis\":{\"gridcolor\":\"white\",\"linecolor\":\"white\",\"ticks\":\"\",\"title\":{\"standoff\":15},\"zerolinecolor\":\"white\",\"automargin\":true,\"zerolinewidth\":2},\"scene\":{\"xaxis\":{\"backgroundcolor\":\"#E5ECF6\",\"gridcolor\":\"white\",\"linecolor\":\"white\",\"showbackground\":true,\"ticks\":\"\",\"zerolinecolor\":\"white\",\"gridwidth\":2},\"yaxis\":{\"backgroundcolor\":\"#E5ECF6\",\"gridcolor\":\"white\",\"linecolor\":\"white\",\"showbackground\":true,\"ticks\":\"\",\"zerolinecolor\":\"white\",\"gridwidth\":2},\"zaxis\":{\"backgroundcolor\":\"#E5ECF6\",\"gridcolor\":\"white\",\"linecolor\":\"white\",\"showbackground\":true,\"ticks\":\"\",\"zerolinecolor\":\"white\",\"gridwidth\":2}},\"shapedefaults\":{\"line\":{\"color\":\"#2a3f5f\"}},\"annotationdefaults\":{\"arrowcolor\":\"#2a3f5f\",\"arrowhead\":0,\"arrowwidth\":1},\"geo\":{\"bgcolor\":\"white\",\"landcolor\":\"#E5ECF6\",\"subunitcolor\":\"white\",\"showland\":true,\"showlakes\":true,\"lakecolor\":\"white\"},\"title\":{\"x\":0.05},\"mapbox\":{\"style\":\"light\"}}},\"xaxis\":{\"anchor\":\"y\",\"domain\":[0.0,1.0],\"title\":{\"text\":\"data\"}},\"yaxis\":{\"anchor\":\"x\",\"domain\":[0.0,1.0],\"title\":{\"text\":\"Valor\"}},\"legend\":{\"title\":{\"text\":\"Indicador\"},\"tracegroupgap\":0},\"margin\":{\"t\":60},\"title\":{\"text\":\"Evolu\\u00e7\\u00e3o das Vendas\"}},                        {\"responsive\": true}                    ).then(function(){\n",
       "                            \n",
       "var gd = document.getElementById('1d195297-a674-494f-9c3f-7da417485ace');\n",
       "var x = new MutationObserver(function (mutations, observer) {{\n",
       "        var display = window.getComputedStyle(gd).display;\n",
       "        if (!display || display === 'none') {{\n",
       "            console.log([gd, 'removed!']);\n",
       "            Plotly.purge(gd);\n",
       "            observer.disconnect();\n",
       "        }}\n",
       "}});\n",
       "\n",
       "// Listen for the removal of the full notebook cells\n",
       "var notebookContainer = gd.closest('#notebook-container');\n",
       "if (notebookContainer) {{\n",
       "    x.observe(notebookContainer, {childList: true});\n",
       "}}\n",
       "\n",
       "// Listen for the clearing of the current output cell\n",
       "var outputEl = gd.closest('.output');\n",
       "if (outputEl) {{\n",
       "    x.observe(outputEl, {childList: true});\n",
       "}}\n",
       "\n",
       "                        })                };                });            </script>        </div>"
      ]
     },
     "metadata": {},
     "output_type": "display_data"
    }
   ],
   "source": [
    "fig=px.line(df_transformado,x=\"data\",y=\"Valor\",text=\"Valor\",color=\"Indicador\")\n",
    "\n",
    "fig.update_layout(title=\"Evolução das Vendas\")\n",
    "\n",
    "fig.show()"
   ]
  }
 ],
 "metadata": {
  "kernelspec": {
   "display_name": "Python 3",
   "language": "python",
   "name": "python3"
  },
  "language_info": {
   "codemirror_mode": {
    "name": "ipython",
    "version": 3
   },
   "file_extension": ".py",
   "mimetype": "text/x-python",
   "name": "python",
   "nbconvert_exporter": "python",
   "pygments_lexer": "ipython3",
   "version": "3.10.13"
  }
 },
 "nbformat": 4,
 "nbformat_minor": 2
}
